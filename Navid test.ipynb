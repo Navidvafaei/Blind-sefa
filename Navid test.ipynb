{
 "cells": [
  {
   "cell_type": "markdown",
   "metadata": {},
   "source": [
    "# SEFA"
   ]
  },
  {
   "cell_type": "markdown",
   "metadata": {},
   "source": [
    "## Test Capture"
   ]
  },
  {
   "cell_type": "code",
   "execution_count": 1,
   "metadata": {},
   "outputs": [],
   "source": [
    "SCOPETYPE = 'OPENADC'\n",
    "PLATFORM = 'CWLITEXMEGA'\n",
    "CRYPTO_TARGET = 'NONE'"
   ]
  },
  {
   "cell_type": "code",
   "execution_count": 2,
   "metadata": {},
   "outputs": [
    {
     "name": "stdout",
     "output_type": "stream",
     "text": [
      "Building for platform CWLITEXMEGA with CRYPTO_TARGET=NONE\r\n",
      "SS_VER set to SS_VER_1_1\r\n",
      "rm -f -- simpleserial-Navid-CWLITEXMEGA.hex\r\n",
      "rm -f -- simpleserial-Navid-CWLITEXMEGA.eep\r\n",
      "rm -f -- simpleserial-Navid-CWLITEXMEGA.cof\r\n",
      "rm -f -- simpleserial-Navid-CWLITEXMEGA.elf\r\n",
      "rm -f -- simpleserial-Navid-CWLITEXMEGA.map\r\n",
      "rm -f -- simpleserial-Navid-CWLITEXMEGA.sym\r\n",
      "rm -f -- simpleserial-Navid-CWLITEXMEGA.lss\r\n",
      "rm -f -- objdir/*.o\r\n",
      "rm -f -- objdir/*.lst\r\n",
      "rm -f -- simpleserial-Navid.s simpleserial.s XMEGA_AES_driver.s uart.s usart_driver.s xmega_hal.s\r\n",
      "rm -f -- simpleserial-Navid.d simpleserial.d XMEGA_AES_driver.d uart.d usart_driver.d xmega_hal.d\r\n",
      "rm -f -- simpleserial-Navid.i simpleserial.i XMEGA_AES_driver.i uart.i usart_driver.i xmega_hal.i\r\n",
      ".\n",
      "Welcome to another exciting ChipWhisperer target build!!\n",
      "avr-gcc (GCC) 10.1.0\r\n",
      "Copyright (C) 2020 Free Software Foundation, Inc.\r\n",
      "This is free software; see the source for copying conditions.  There is NO\r\n",
      "warranty; not even for MERCHANTABILITY or FITNESS FOR A PARTICULAR PURPOSE.\r\n",
      "\r\n",
      ".\n",
      "Compiling C: simpleserial-Navid.c\n",
      "avr-gcc -c -mmcu=atxmega128d3 -I. -DNO_EXTRA_OPTS -fpack-struct -gdwarf-2 -DSS_VER=SS_VER_1_1 -DHAL_TYPE=HAL_xmega -DPLATFORM=CWLITEXMEGA -DF_CPU=7372800UL -DSS_VER_2_0=2 -DSS_VER_1_1=1 -DSS_VER_1_0=0 -Os -funsigned-char -funsigned-bitfields -fshort-enums -Wall -Wstrict-prototypes -Wa,-adhlns=objdir/simpleserial-Navid.lst -I.././simpleserial/ -I.././hal -I.././hal/xmega -I.././crypto/ -std=gnu99  -MMD -MP -MF .dep/simpleserial-Navid.o.d simpleserial-Navid.c -o objdir/simpleserial-Navid.o\r\n",
      ".\n",
      "Compiling C: .././simpleserial/simpleserial.c\n",
      "avr-gcc -c -mmcu=atxmega128d3 -I. -DNO_EXTRA_OPTS -fpack-struct -gdwarf-2 -DSS_VER=SS_VER_1_1 -DHAL_TYPE=HAL_xmega -DPLATFORM=CWLITEXMEGA -DF_CPU=7372800UL -DSS_VER_2_0=2 -DSS_VER_1_1=1 -DSS_VER_1_0=0 -Os -funsigned-char -funsigned-bitfields -fshort-enums -Wall -Wstrict-prototypes -Wa,-adhlns=objdir/simpleserial.lst -I.././simpleserial/ -I.././hal -I.././hal/xmega -I.././crypto/ -std=gnu99  -MMD -MP -MF .dep/simpleserial.o.d .././simpleserial/simpleserial.c -o objdir/simpleserial.o\r\n",
      ".\n",
      "Compiling C: .././hal/xmega/XMEGA_AES_driver.c\n",
      "avr-gcc -c -mmcu=atxmega128d3 -I. -DNO_EXTRA_OPTS -fpack-struct -gdwarf-2 -DSS_VER=SS_VER_1_1 -DHAL_TYPE=HAL_xmega -DPLATFORM=CWLITEXMEGA -DF_CPU=7372800UL -DSS_VER_2_0=2 -DSS_VER_1_1=1 -DSS_VER_1_0=0 -Os -funsigned-char -funsigned-bitfields -fshort-enums -Wall -Wstrict-prototypes -Wa,-adhlns=objdir/XMEGA_AES_driver.lst -I.././simpleserial/ -I.././hal -I.././hal/xmega -I.././crypto/ -std=gnu99  -MMD -MP -MF .dep/XMEGA_AES_driver.o.d .././hal/xmega/XMEGA_AES_driver.c -o objdir/XMEGA_AES_driver.o\r\n",
      ".\n",
      "Compiling C: .././hal/xmega/uart.c\n",
      "avr-gcc -c -mmcu=atxmega128d3 -I. -DNO_EXTRA_OPTS -fpack-struct -gdwarf-2 -DSS_VER=SS_VER_1_1 -DHAL_TYPE=HAL_xmega -DPLATFORM=CWLITEXMEGA -DF_CPU=7372800UL -DSS_VER_2_0=2 -DSS_VER_1_1=1 -DSS_VER_1_0=0 -Os -funsigned-char -funsigned-bitfields -fshort-enums -Wall -Wstrict-prototypes -Wa,-adhlns=objdir/uart.lst -I.././simpleserial/ -I.././hal -I.././hal/xmega -I.././crypto/ -std=gnu99  -MMD -MP -MF .dep/uart.o.d .././hal/xmega/uart.c -o objdir/uart.o\r\n",
      ".\n",
      "Compiling C: .././hal/xmega/usart_driver.c\n",
      "avr-gcc -c -mmcu=atxmega128d3 -I. -DNO_EXTRA_OPTS -fpack-struct -gdwarf-2 -DSS_VER=SS_VER_1_1 -DHAL_TYPE=HAL_xmega -DPLATFORM=CWLITEXMEGA -DF_CPU=7372800UL -DSS_VER_2_0=2 -DSS_VER_1_1=1 -DSS_VER_1_0=0 -Os -funsigned-char -funsigned-bitfields -fshort-enums -Wall -Wstrict-prototypes -Wa,-adhlns=objdir/usart_driver.lst -I.././simpleserial/ -I.././hal -I.././hal/xmega -I.././crypto/ -std=gnu99  -MMD -MP -MF .dep/usart_driver.o.d .././hal/xmega/usart_driver.c -o objdir/usart_driver.o\r\n",
      ".\n",
      "Compiling C: .././hal/xmega/xmega_hal.c\n",
      "avr-gcc -c -mmcu=atxmega128d3 -I. -DNO_EXTRA_OPTS -fpack-struct -gdwarf-2 -DSS_VER=SS_VER_1_1 -DHAL_TYPE=HAL_xmega -DPLATFORM=CWLITEXMEGA -DF_CPU=7372800UL -DSS_VER_2_0=2 -DSS_VER_1_1=1 -DSS_VER_1_0=0 -Os -funsigned-char -funsigned-bitfields -fshort-enums -Wall -Wstrict-prototypes -Wa,-adhlns=objdir/xmega_hal.lst -I.././simpleserial/ -I.././hal -I.././hal/xmega -I.././crypto/ -std=gnu99  -MMD -MP -MF .dep/xmega_hal.o.d .././hal/xmega/xmega_hal.c -o objdir/xmega_hal.o\r\n",
      ".\n",
      "Linking: simpleserial-Navid-CWLITEXMEGA.elf\n",
      "avr-gcc -mmcu=atxmega128d3 -I. -DNO_EXTRA_OPTS -fpack-struct -gdwarf-2 -DSS_VER=SS_VER_1_1 -DHAL_TYPE=HAL_xmega -DPLATFORM=CWLITEXMEGA -DF_CPU=7372800UL -DSS_VER_2_0=2 -DSS_VER_1_1=1 -DSS_VER_1_0=0 -Os -funsigned-char -funsigned-bitfields -fshort-enums -Wall -Wstrict-prototypes -Wa,-adhlns=objdir/simpleserial-Navid.o -I.././simpleserial/ -I.././hal -I.././hal/xmega -I.././crypto/ -std=gnu99  -MMD -MP -MF .dep/simpleserial-Navid-CWLITEXMEGA.elf.d objdir/simpleserial-Navid.o objdir/simpleserial.o objdir/XMEGA_AES_driver.o objdir/uart.o objdir/usart_driver.o objdir/xmega_hal.o --output simpleserial-Navid-CWLITEXMEGA.elf -Wl,-Map=simpleserial-Navid-CWLITEXMEGA.map,--cref   -lm  \r\n",
      ".\n",
      "Creating load file for Flash: simpleserial-Navid-CWLITEXMEGA.hex\n",
      "avr-objcopy -O ihex -R .eeprom -R .fuse -R .lock -R .signature simpleserial-Navid-CWLITEXMEGA.elf simpleserial-Navid-CWLITEXMEGA.hex\r\n",
      ".\n",
      "Creating load file for EEPROM: simpleserial-Navid-CWLITEXMEGA.eep\n",
      "avr-objcopy -j .eeprom --set-section-flags=.eeprom=\"alloc,load\" \\\r\n",
      "--change-section-lma .eeprom=0 --no-change-warnings -O ihex simpleserial-Navid-CWLITEXMEGA.elf simpleserial-Navid-CWLITEXMEGA.eep || exit 0\r\n",
      ".\n",
      "Creating Extended Listing: simpleserial-Navid-CWLITEXMEGA.lss\n",
      "avr-objdump -h -S -z simpleserial-Navid-CWLITEXMEGA.elf > simpleserial-Navid-CWLITEXMEGA.lss\r\n",
      ".\n",
      "Creating Symbol Table: simpleserial-Navid-CWLITEXMEGA.sym\n",
      "avr-nm -n simpleserial-Navid-CWLITEXMEGA.elf > simpleserial-Navid-CWLITEXMEGA.sym\r\n",
      "Size after:\n",
      "   text\t   data\t    bss\t    dec\t    hex\tfilename\r\n",
      "   2112\t    272\t     98\t   2482\t    9b2\tsimpleserial-Navid-CWLITEXMEGA.elf\r\n",
      "+--------------------------------------------------------\n",
      "+ Default target does full rebuild each time.\n",
      "+ Specify buildtarget == allquick == to avoid full rebuild\n",
      "+--------------------------------------------------------\n",
      "+--------------------------------------------------------\n",
      "+ Built for platform CW-Lite XMEGA with:\n",
      "+ CRYPTO_TARGET = NONE\n",
      "+ CRYPTO_OPTIONS = \n",
      "+--------------------------------------------------------\n"
     ]
    },
    {
     "name": "stderr",
     "output_type": "stream",
     "text": [
      ".././simpleserial/simpleserial.c:18: warning: \"CRC\" redefined\n",
      "   18 | #define CRC 0xA6\n",
      "      | \n",
      "In file included from c:\\users\\admin\\chipwh~1\\cw\\home\\portable\\avrgcc\\avr-gcc-10.1.0-x64-windows\\avr\\include\\avr\\io.h:552,\n",
      "                 from .././hal/hal.h:93,\n",
      "                 from .././simpleserial/simpleserial.c:5:\n",
      "c:\\users\\admin\\chipwh~1\\cw\\home\\portable\\avrgcc\\avr-gcc-10.1.0-x64-windows\\avr\\include\\avr\\iox128d3.h:2239: note: this is the location of the previous definition\n",
      " 2239 | #define CRC    (*(CRC_t *) 0x00D0)  /* Cyclic Redundancy Checker */\n",
      "      | \n"
     ]
    }
   ],
   "source": [
    "%%bash -s \"$PLATFORM\" \"$CRYPTO_TARGET\"\n",
    "cd ../hardware/victims/firmware/simpleserial-Navid\n",
    "make PLATFORM=$1 CRYPTO_TARGET=$2"
   ]
  },
  {
   "cell_type": "code",
   "execution_count": 3,
   "metadata": {},
   "outputs": [
    {
     "name": "stderr",
     "output_type": "stream",
     "text": [
      "(ChipWhisperer NAEUSB WARNING|File naeusb.py:701) Your firmware (0.11) is outdated - latest is 0.62See https://chipwhisperer.readthedocs.io/en/latest/firmware.html for more information\n"
     ]
    },
    {
     "name": "stdout",
     "output_type": "stream",
     "text": [
      "INFO: Found ChipWhisperer😍\n"
     ]
    }
   ],
   "source": [
    "%run \"Setup_Scripts/Setup_Generic.ipynb\""
   ]
  },
  {
   "cell_type": "code",
   "execution_count": 4,
   "metadata": {},
   "outputs": [
    {
     "name": "stdout",
     "output_type": "stream",
     "text": [
      "XMEGA Programming flash...\n",
      "XMEGA Reading flash...\n",
      "Verified flash OK, 2383 bytes\n"
     ]
    }
   ],
   "source": [
    "fw_path = '../hardware/victims/firmware/simpleserial-Navid/simpleserial-Navid-{}.hex'.format(PLATFORM)\n",
    "cw.program_target(scope, prog, fw_path)"
   ]
  },
  {
   "cell_type": "code",
   "execution_count": 5,
   "metadata": {},
   "outputs": [],
   "source": [
    "scope.clock.adc_src = \"clkgen_x1\"\n",
    "scope.io.hs2 = \"clkgen\"\n",
    "scope.adc.timeout = 0.1\n",
    "\n",
    "ktp = cw.ktp.Basic()\n",
    "key, text = ktp.next()\n",
    "\n",
    "trace = cw.capture_trace(scope, target, text,key)\n",
    "# scope.adc.samples = 20000\n",
    "\n",
    "# ciphertext = trace.textout\n",
    "# sbox_in = text\n",
    "# sbox_out = ciphertext\n",
    "\n",
    "# ktp.fixed_text = True\n",
    "# ktp.fixed_key = True\n",
    "# key, text = ktp.next()\n",
    "# trace = cw.capture_trace(scope, target, text, key)\n",
    "# goldciph = trace.textout\n",
    "# print(goldciph)\n",
    "# cw.plot(trace[0])"
   ]
  },
  {
   "cell_type": "code",
   "execution_count": 8,
   "metadata": {},
   "outputs": [],
   "source": [
    "# print(trace)\n",
    "sbox = [\n",
    "    0x63, 0x7c, 0x77, 0x7b, 0xf2, 0x6b, 0x6f, 0xc5, 0x30, 0x01, 0x67, 0x2b, 0xfe, 0xd7, 0xab, 0x76,\n",
    "    0xca, 0x82, 0xc9, 0x7d, 0xfa, 0x59, 0x47, 0xf0, 0xad, 0xd4, 0xa2, 0xaf, 0x9c, 0xa4, 0x72, 0xc0,\n",
    "    0xb7, 0xfd, 0x93, 0x26, 0x36, 0x3f, 0xf7, 0xcc, 0x34, 0xa5, 0xe5, 0xf1, 0x71, 0xd8, 0x31, 0x15,\n",
    "    0x04, 0xc7, 0x23, 0xc3, 0x18, 0x96, 0x05, 0x9a, 0x07, 0x12, 0x80, 0xe2, 0xeb, 0x27, 0xb2, 0x75,\n",
    "    0x09, 0x83, 0x2c, 0x1a, 0x1b, 0x6e, 0x5a, 0xa0, 0x52, 0x3b, 0xd6, 0xb3, 0x29, 0xe3, 0x2f, 0x84,\n",
    "    0x53, 0xd1, 0x00, 0xed, 0x20, 0xfc, 0xb1, 0x5b, 0x6a, 0xcb, 0xbe, 0x39, 0x4a, 0x4c, 0x58, 0xcf,\n",
    "    0xd0, 0xef, 0xaa, 0xfb, 0x43, 0x4d, 0x33, 0x85, 0x45, 0xf9, 0x02, 0x7f, 0x50, 0x3c, 0x9f, 0xa8,\n",
    "    0x51, 0xa3, 0x40, 0x8f, 0x92, 0x9d, 0x38, 0xf5, 0xbc, 0xb6, 0xda, 0x21, 0x10, 0xff, 0xf3, 0xd2,\n",
    "    0xcd, 0x0c, 0x13, 0xec, 0x5f, 0x97, 0x44, 0x17, 0xc4, 0xa7, 0x7e, 0x3d, 0x64, 0x5d, 0x19, 0x73,\n",
    "    0x60, 0x81, 0x4f, 0xdc, 0x22, 0x2a, 0x90, 0x88, 0x46, 0xee, 0xb8, 0x14, 0xde, 0x5e, 0x0b, 0xdb,\n",
    "    0xe0, 0x32, 0x3a, 0x0a, 0x49, 0x06, 0x24, 0x5c, 0xc2, 0xd3, 0xac, 0x62, 0x91, 0x95, 0xe4, 0x79,\n",
    "    0xe7, 0xc8, 0x37, 0x6d, 0x8d, 0xd5, 0x4e, 0xa9, 0x6c, 0x56, 0xf4, 0xea, 0x65, 0x7a, 0xae, 0x08,\n",
    "    0xba, 0x78, 0x25, 0x2e, 0x1c, 0xa6, 0xb4, 0xc6, 0xe8, 0xdd, 0x74, 0x1f, 0x4b, 0xbd, 0x8b, 0x8a,\n",
    "    0x70, 0x3e, 0xb5, 0x66, 0x48, 0x03, 0xf6, 0x0e, 0x61, 0x35, 0x57, 0xb9, 0x86, 0xc1, 0x1d, 0x9e,\n",
    "    0xe1, 0xf8, 0x98, 0x11, 0x69, 0xd9, 0x8e, 0x94, 0x9b, 0x1e, 0x87, 0xe9, 0xce, 0x55, 0x28, 0xdf,\n",
    "    0x8c, 0xa1, 0x89, 0x0d, 0xbf, 0xe6, 0x42, 0x68, 0x41, 0x99, 0x2d, 0x0f, 0xb0, 0x54, 0xbb, 0x16,\n",
    "]\n",
    "import numpy as np\n",
    "# S_out=np.zeros(16)\n",
    "# for i in range (16):\n",
    "#     S_out[i]=sbox[text[i]]\n",
    "#     print(trace.textout[i])\n",
    "# print(S_out)"
   ]
  },
  {
   "cell_type": "code",
   "execution_count": 93,
   "metadata": {},
   "outputs": [],
   "source": [
    "import numpy as np\n",
    "import time\n",
    "import chipwhisperer.common.results.glitch as glitch\n",
    "\n",
    "def reboot_flush():            \n",
    "    scope.io.pdic = False\n",
    "    time.sleep(0.1)\n",
    "    scope.io.pdic = \"high_z\"\n",
    "    time.sleep(0.1)\n",
    "    target.flush()\n",
    "\n",
    "# ktp = cw.ktp.Basic()\n",
    "# key, text = ktp.next()\n",
    "\n",
    "# SBOX = [\n",
    "#     0, 9, 18, 11, 5, 12, 22, 15,\n",
    "#     10, 3, 24, 1, 13, 4, 30, 7,\n",
    "#     20, 21, 6, 23, 17, 16, 2, 19,\n",
    "#     26, 27, 8, 25, 29, 28, 14, 31\n",
    "# ];\n",
    "\n",
    "gc = glitch.GlitchController(groups=[\"success\", \"reset\", \"normal\"], parameters=[\"width\", \"offset\", \"ext_offset\"])\n",
    "\n",
    "gc.set_range(\"width\", 6, 6)\n",
    "gc.set_range(\"offset\", -10, -10)\n",
    "gc.set_range(\"ext_offset\", 355, 355)#10362#10562\n",
    "scope.glitch.clk_src = \"clkgen\" # set glitch input clock\n",
    "scope.glitch.output = \"clock_xor\" # glitch_out = clk ^ glitch\n",
    "scope.glitch.trigger_src = \"ext_single\" # glitch only after scope.arm() called\n",
    "scope.io.hs2 = \"glitch\"  # output glitch_out on the clock line\n",
    "scope.adc.timeout = 0.1\n",
    "\n",
    "gc.set_global_step(1)\n",
    "scope.glitch.repeat = 1\n",
    "reboot_flush()\n",
    "\n",
    "RUNS = 30000\n",
    "reset_num=150"
   ]
  },
  {
   "cell_type": "code",
   "execution_count": null,
   "metadata": {},
   "outputs": [
    {
     "data": {
      "application/vnd.jupyter.widget-view+json": {
       "model_id": "a61695f5b74140a7a05d99976648c75f",
       "version_major": 2,
       "version_minor": 0
      },
      "text/plain": [
       "IntText(value=0, description='success count:', disabled=True)"
      ]
     },
     "metadata": {},
     "output_type": "display_data"
    },
    {
     "data": {
      "application/vnd.jupyter.widget-view+json": {
       "model_id": "4239d044073b4b9bb5c0bf654de62142",
       "version_major": 2,
       "version_minor": 0
      },
      "text/plain": [
       "IntText(value=0, description='reset count:', disabled=True)"
      ]
     },
     "metadata": {},
     "output_type": "display_data"
    },
    {
     "data": {
      "application/vnd.jupyter.widget-view+json": {
       "model_id": "e36e6085d77749bf83d6936d7d56806a",
       "version_major": 2,
       "version_minor": 0
      },
      "text/plain": [
       "IntText(value=0, description='normal count:', disabled=True)"
      ]
     },
     "metadata": {},
     "output_type": "display_data"
    },
    {
     "data": {
      "application/vnd.jupyter.widget-view+json": {
       "model_id": "70116537d88c4f0ea45e590b82a054e9",
       "version_major": 2,
       "version_minor": 0
      },
      "text/plain": [
       "FloatSlider(value=6.0, continuous_update=False, description='width setting:', disabled=True, max=6.0, min=6.0,…"
      ]
     },
     "metadata": {},
     "output_type": "display_data"
    },
    {
     "data": {
      "application/vnd.jupyter.widget-view+json": {
       "model_id": "9a0bfed2147e4f31a578c912c5a28953",
       "version_major": 2,
       "version_minor": 0
      },
      "text/plain": [
       "FloatSlider(value=-10.0, continuous_update=False, description='offset setting:', disabled=True, max=-10.0, min…"
      ]
     },
     "metadata": {},
     "output_type": "display_data"
    },
    {
     "data": {
      "application/vnd.jupyter.widget-view+json": {
       "model_id": "56253fc3097a4910b6871537c0a097bf",
       "version_major": 2,
       "version_minor": 0
      },
      "text/plain": [
       "FloatSlider(value=355.0, continuous_update=False, description='ext_offset setting:', disabled=True, max=355.0,…"
      ]
     },
     "metadata": {},
     "output_type": "display_data"
    },
    {
     "name": "stderr",
     "output_type": "stream",
     "text": [
      "(ChipWhisperer Target WARNING|File SimpleSerial.py:411) Unexpected end to command: 8\n",
      "(ChipWhisperer Target WARNING|File SimpleSerial.py:411) Unexpected end to command: 6\n",
      "(ChipWhisperer Target WARNING|File SimpleSerial.py:411) Unexpected end to command: A\n",
      "(ChipWhisperer Target WARNING|File SimpleSerial.py:411) Unexpected end to command: 5\n",
      "(ChipWhisperer Target WARNING|File SimpleSerial.py:411) Unexpected end to command: 8\n",
      "(ChipWhisperer Target WARNING|File SimpleSerial.py:411) Unexpected end to command: 2\n",
      "(ChipWhisperer Target WARNING|File SimpleSerial.py:411) Unexpected end to command: A\n",
      "(ChipWhisperer Target WARNING|File SimpleSerial.py:411) Unexpected end to command: 2\n",
      "(ChipWhisperer Target WARNING|File SimpleSerial.py:411) Unexpected end to command: A\n",
      "(ChipWhisperer Target WARNING|File SimpleSerial.py:411) Unexpected end to command: F\n",
      "(ChipWhisperer Target WARNING|File SimpleSerial.py:411) Unexpected end to command: A\n",
      "(ChipWhisperer Target WARNING|File SimpleSerial.py:411) Unexpected end to command: 2\n",
      "(ChipWhisperer Target WARNING|File SimpleSerial.py:411) Unexpected end to command: 5\n",
      "(ChipWhisperer Target WARNING|File SimpleSerial.py:411) Unexpected end to command: 1\n",
      "(ChipWhisperer Target WARNING|File SimpleSerial.py:411) Unexpected end to command: 2\n",
      "(ChipWhisperer Target WARNING|File SimpleSerial.py:411) Unexpected end to command: 5\n",
      "(ChipWhisperer Target WARNING|File SimpleSerial.py:411) Unexpected end to command: 0\n",
      "(ChipWhisperer Target WARNING|File SimpleSerial.py:411) Unexpected end to command: 5\n",
      "(ChipWhisperer Target WARNING|File SimpleSerial.py:411) Unexpected end to command: D\n",
      "(ChipWhisperer Target WARNING|File SimpleSerial.py:411) Unexpected end to command: 0\n",
      "(ChipWhisperer Target WARNING|File SimpleSerial.py:411) Unexpected end to command: 8\n",
      "(ChipWhisperer Target WARNING|File SimpleSerial.py:411) Unexpected end to command: F\n",
      "(ChipWhisperer Target WARNING|File SimpleSerial.py:411) Unexpected end to command: 2\n",
      "(ChipWhisperer Target WARNING|File SimpleSerial.py:411) Unexpected end to command: D\n",
      "(ChipWhisperer Target WARNING|File SimpleSerial.py:411) Unexpected end to command: 5\n",
      "(ChipWhisperer Target WARNING|File SimpleSerial.py:411) Unexpected end to command: 1\n",
      "(ChipWhisperer Target WARNING|File SimpleSerial.py:411) Unexpected end to command: 1\n",
      "(ChipWhisperer Target WARNING|File SimpleSerial.py:411) Unexpected end to command: 1\n",
      "(ChipWhisperer Target WARNING|File SimpleSerial.py:411) Unexpected end to command: 1\n",
      "(ChipWhisperer Target WARNING|File SimpleSerial.py:411) Unexpected end to command: 0\n",
      "(ChipWhisperer Target WARNING|File SimpleSerial.py:411) Unexpected end to command: E\n",
      "(ChipWhisperer Target WARNING|File SimpleSerial.py:411) Unexpected end to command: 1\n",
      "(ChipWhisperer Target WARNING|File SimpleSerial.py:411) Unexpected end to command: 6\n",
      "(ChipWhisperer Target WARNING|File SimpleSerial.py:411) Unexpected end to command: 1\n",
      "(ChipWhisperer Target WARNING|File SimpleSerial.py:411) Unexpected end to command: 1\n",
      "(ChipWhisperer Target WARNING|File SimpleSerial.py:411) Unexpected end to command: 8\n",
      "(ChipWhisperer Target WARNING|File SimpleSerial.py:411) Unexpected end to command: 2\n",
      "(ChipWhisperer Target WARNING|File SimpleSerial.py:411) Unexpected end to command: 1\n",
      "(ChipWhisperer Target WARNING|File SimpleSerial.py:411) Unexpected end to command: 5\n",
      "WARNING:root:SAM3U Serial buffers OVERRUN - data loss has occurred.\n",
      "WARNING:root:SAM3U Serial buffers OVERRUN - data loss has occurred.\n",
      "(ChipWhisperer Target WARNING|File SimpleSerial.py:411) Unexpected end to command: 5\n",
      "(ChipWhisperer Target WARNING|File SimpleSerial.py:411) Unexpected end to command: D\n",
      "(ChipWhisperer Target WARNING|File SimpleSerial.py:411) Unexpected end to command: 8\n",
      "(ChipWhisperer Target WARNING|File SimpleSerial.py:411) Unexpected end to command: 8\n",
      "(ChipWhisperer Target WARNING|File SimpleSerial.py:411) Unexpected end to command: 2\n",
      "(ChipWhisperer Target WARNING|File SimpleSerial.py:411) Unexpected end to command: 1\n",
      "(ChipWhisperer Target WARNING|File SimpleSerial.py:411) Unexpected end to command: 5\n",
      "(ChipWhisperer Target WARNING|File SimpleSerial.py:411) Unexpected end to command: 0\n",
      "(ChipWhisperer Target WARNING|File SimpleSerial.py:411) Unexpected end to command: 5\n",
      "(ChipWhisperer Target WARNING|File SimpleSerial.py:411) Unexpected end to command: 5\n",
      "(ChipWhisperer Target WARNING|File SimpleSerial.py:411) Unexpected end to command: A\n",
      "(ChipWhisperer Target WARNING|File SimpleSerial.py:411) Unexpected end to command: 5\n",
      "(ChipWhisperer Target WARNING|File SimpleSerial.py:411) Unexpected end to command: 5\n",
      "(ChipWhisperer Target WARNING|File SimpleSerial.py:411) Unexpected end to command: 5\n",
      "(ChipWhisperer Target WARNING|File SimpleSerial.py:411) Unexpected end to command: D\n",
      "(ChipWhisperer Target WARNING|File SimpleSerial.py:411) Unexpected end to command: 2\n",
      "(ChipWhisperer Target WARNING|File SimpleSerial.py:411) Unexpected end to command: 0\n",
      "(ChipWhisperer Target WARNING|File SimpleSerial.py:411) Unexpected end to command: 8\n",
      "(ChipWhisperer Target WARNING|File SimpleSerial.py:411) Unexpected end to command: 5\n",
      "(ChipWhisperer Target WARNING|File SimpleSerial.py:411) Unexpected end to command: 7\n",
      "(ChipWhisperer Target WARNING|File SimpleSerial.py:411) Unexpected end to command: E\n",
      "(ChipWhisperer Target WARNING|File SimpleSerial.py:411) Unexpected end to command: 5\n",
      "(ChipWhisperer Target WARNING|File SimpleSerial.py:411) Unexpected end to command: 5\n",
      "(ChipWhisperer Target WARNING|File SimpleSerial.py:411) Unexpected end to command: 5\n",
      "(ChipWhisperer Target WARNING|File SimpleSerial.py:411) Unexpected end to command: 0\n",
      "(ChipWhisperer Target WARNING|File SimpleSerial.py:411) Unexpected end to command: 1\n",
      "(ChipWhisperer Target WARNING|File SimpleSerial.py:411) Unexpected end to command: D\n",
      "(ChipWhisperer Target WARNING|File SimpleSerial.py:411) Unexpected end to command: F\n",
      "(ChipWhisperer Target WARNING|File SimpleSerial.py:411) Unexpected end to command: 8\n",
      "(ChipWhisperer Target WARNING|File SimpleSerial.py:411) Unexpected end to command: 5\n",
      "(ChipWhisperer Target WARNING|File SimpleSerial.py:411) Unexpected end to command: 8\n",
      "(ChipWhisperer Target WARNING|File SimpleSerial.py:411) Unexpected end to command: 7\n",
      "(ChipWhisperer Target WARNING|File SimpleSerial.py:411) Unexpected end to command: E\n",
      "(ChipWhisperer Target WARNING|File SimpleSerial.py:411) Unexpected end to command: 7\n",
      "(ChipWhisperer Target WARNING|File SimpleSerial.py:411) Unexpected end to command: 0\n",
      "(ChipWhisperer Target WARNING|File SimpleSerial.py:411) Unexpected end to command: 8\n",
      "(ChipWhisperer Target WARNING|File SimpleSerial.py:411) Unexpected end to command: 5\n",
      "(ChipWhisperer Target WARNING|File SimpleSerial.py:411) Unexpected end to command: E\n",
      "(ChipWhisperer Target WARNING|File SimpleSerial.py:411) Unexpected end to command: 5\n",
      "(ChipWhisperer Target WARNING|File SimpleSerial.py:411) Unexpected end to command: 2\n",
      "WARNING:root:SAM3U Serial buffers OVERRUN - data loss has occurred.\n",
      "(ChipWhisperer Target WARNING|File SimpleSerial.py:411) Unexpected end to command: A\n",
      "(ChipWhisperer Target WARNING|File SimpleSerial.py:411) Unexpected end to command: 2\n",
      "(ChipWhisperer Target WARNING|File SimpleSerial.py:411) Unexpected end to command: 8\n",
      "(ChipWhisperer Target WARNING|File SimpleSerial.py:411) Unexpected end to command: 1\n",
      "(ChipWhisperer Target WARNING|File SimpleSerial.py:411) Unexpected end to command: 7\n",
      "(ChipWhisperer Target WARNING|File SimpleSerial.py:411) Unexpected end to command: 2\n",
      "(ChipWhisperer Target WARNING|File SimpleSerial.py:411) Unexpected end to command: 2\n",
      "(ChipWhisperer Target WARNING|File SimpleSerial.py:411) Unexpected end to command: 6\n",
      "(ChipWhisperer Target WARNING|File SimpleSerial.py:411) Unexpected end to command: 2\n",
      "(ChipWhisperer Target WARNING|File SimpleSerial.py:411) Unexpected end to command: E\n",
      "(ChipWhisperer Target WARNING|File SimpleSerial.py:411) Unexpected end to command: E\n",
      "(ChipWhisperer Target WARNING|File SimpleSerial.py:411) Unexpected end to command: 6\n",
      "(ChipWhisperer Target WARNING|File SimpleSerial.py:411) Unexpected end to command: 8\n",
      "(ChipWhisperer Target WARNING|File SimpleSerial.py:411) Unexpected end to command: F\n",
      "(ChipWhisperer Target WARNING|File SimpleSerial.py:411) Unexpected end to command: 0\n"
     ]
    },
    {
     "name": "stderr",
     "output_type": "stream",
     "text": [
      "(ChipWhisperer Target WARNING|File SimpleSerial.py:411) Unexpected end to command: 1\n",
      "(ChipWhisperer Target WARNING|File SimpleSerial.py:411) Unexpected end to command: 2\n",
      "(ChipWhisperer Target WARNING|File SimpleSerial.py:411) Unexpected end to command: 2\n",
      "(ChipWhisperer Target WARNING|File SimpleSerial.py:411) Unexpected end to command: 8\n",
      "(ChipWhisperer Target WARNING|File SimpleSerial.py:411) Unexpected end to command: 0\n",
      "(ChipWhisperer Target WARNING|File SimpleSerial.py:411) Unexpected end to command: 5\n",
      "(ChipWhisperer Target WARNING|File SimpleSerial.py:411) Unexpected end to command: 6\n",
      "(ChipWhisperer Target WARNING|File SimpleSerial.py:411) Unexpected end to command: 5\n",
      "(ChipWhisperer Target WARNING|File SimpleSerial.py:411) Unexpected end to command: 0\n",
      "(ChipWhisperer Target WARNING|File SimpleSerial.py:411) Unexpected end to command: F\n",
      "(ChipWhisperer Target WARNING|File SimpleSerial.py:411) Unexpected end to command: 0\n",
      "(ChipWhisperer Target WARNING|File SimpleSerial.py:411) Unexpected end to command: F\n",
      "(ChipWhisperer Target WARNING|File SimpleSerial.py:411) Unexpected end to command: 5\n",
      "(ChipWhisperer Target WARNING|File SimpleSerial.py:411) Unexpected end to command: 5\n",
      "(ChipWhisperer Target WARNING|File SimpleSerial.py:411) Unexpected end to command: 7\n",
      "(ChipWhisperer Target WARNING|File SimpleSerial.py:411) Unexpected end to command: 5\n",
      "(ChipWhisperer Target WARNING|File SimpleSerial.py:411) Unexpected end to command: 0\n",
      "(ChipWhisperer Target WARNING|File SimpleSerial.py:411) Unexpected end to command: 1\n",
      "(ChipWhisperer Target WARNING|File SimpleSerial.py:411) Unexpected end to command: 0\n",
      "(ChipWhisperer Target WARNING|File SimpleSerial.py:411) Unexpected end to command: 0\n",
      "(ChipWhisperer Target WARNING|File SimpleSerial.py:411) Unexpected end to command: 2\n",
      "(ChipWhisperer Target WARNING|File SimpleSerial.py:411) Unexpected end to command: 5\n",
      "(ChipWhisperer Target WARNING|File SimpleSerial.py:411) Unexpected end to command: 0\n",
      "(ChipWhisperer Target WARNING|File SimpleSerial.py:411) Unexpected end to command: 1\n",
      "(ChipWhisperer Target WARNING|File SimpleSerial.py:411) Unexpected end to command: 7\n",
      "(ChipWhisperer Target WARNING|File SimpleSerial.py:411) Unexpected end to command: 6\n",
      "(ChipWhisperer Target WARNING|File SimpleSerial.py:411) Unexpected end to command: F\n",
      "(ChipWhisperer Target WARNING|File SimpleSerial.py:411) Unexpected end to command: 1\n",
      "(ChipWhisperer Target WARNING|File SimpleSerial.py:411) Unexpected end to command: E\n",
      "(ChipWhisperer Target WARNING|File SimpleSerial.py:411) Unexpected end to command: D\n",
      "(ChipWhisperer Target WARNING|File SimpleSerial.py:411) Unexpected end to command: 2\n",
      "(ChipWhisperer Target WARNING|File SimpleSerial.py:411) Unexpected end to command: 2\n",
      "(ChipWhisperer Target WARNING|File SimpleSerial.py:411) Unexpected end to command: E\n",
      "(ChipWhisperer Target WARNING|File SimpleSerial.py:411) Unexpected end to command: 2\n",
      "(ChipWhisperer Target WARNING|File SimpleSerial.py:411) Unexpected end to command: 8\n",
      "(ChipWhisperer Target WARNING|File SimpleSerial.py:411) Unexpected end to command: 5\n",
      "(ChipWhisperer Target WARNING|File SimpleSerial.py:411) Unexpected end to command: 5\n",
      "(ChipWhisperer Target WARNING|File SimpleSerial.py:411) Unexpected end to command: A\n",
      "(ChipWhisperer Target WARNING|File SimpleSerial.py:411) Unexpected end to command: 2\n",
      "(ChipWhisperer Target WARNING|File SimpleSerial.py:411) Unexpected end to command: 2\n",
      "(ChipWhisperer Target WARNING|File SimpleSerial.py:411) Unexpected end to command: 1\n",
      "(ChipWhisperer Target WARNING|File SimpleSerial.py:411) Unexpected end to command: 0\n",
      "(ChipWhisperer Target WARNING|File SimpleSerial.py:411) Unexpected end to command: 5\n",
      "(ChipWhisperer Target WARNING|File SimpleSerial.py:411) Unexpected end to command: 0\n",
      "(ChipWhisperer Target WARNING|File SimpleSerial.py:411) Unexpected end to command: 7\n",
      "(ChipWhisperer Target WARNING|File SimpleSerial.py:411) Unexpected end to command: 2\n",
      "(ChipWhisperer Target WARNING|File SimpleSerial.py:411) Unexpected end to command: 5\n",
      "(ChipWhisperer Target WARNING|File SimpleSerial.py:411) Unexpected end to command: 5\n",
      "(ChipWhisperer Target WARNING|File SimpleSerial.py:411) Unexpected end to command: 0\n",
      "(ChipWhisperer Target WARNING|File SimpleSerial.py:411) Unexpected end to command: 1\n",
      "(ChipWhisperer Target WARNING|File SimpleSerial.py:411) Unexpected end to command: 5\n",
      "(ChipWhisperer Target WARNING|File SimpleSerial.py:411) Unexpected end to command: 2\n",
      "(ChipWhisperer Target WARNING|File SimpleSerial.py:411) Unexpected end to command: 0\n",
      "(ChipWhisperer Target WARNING|File SimpleSerial.py:411) Unexpected end to command: F\n",
      "(ChipWhisperer Target WARNING|File SimpleSerial.py:411) Unexpected end to command: F\n",
      "(ChipWhisperer Target WARNING|File SimpleSerial.py:411) Unexpected end to command: 8\n",
      "WARNING:root:SAM3U Serial buffers OVERRUN - data loss has occurred.\n",
      "WARNING:root:SAM3U Serial buffers OVERRUN - data loss has occurred.\n",
      "WARNING:root:SAM3U Serial buffers OVERRUN - data loss has occurred.\n",
      "WARNING:root:SAM3U Serial buffers OVERRUN - data loss has occurred.\n",
      "WARNING:root:SAM3U Serial buffers OVERRUN - data loss has occurred.\n",
      "WARNING:root:SAM3U Serial buffers OVERRUN - data loss has occurred.\n",
      "(ChipWhisperer Target WARNING|File SimpleSerial.py:411) Unexpected end to command: 5\n",
      "(ChipWhisperer Target WARNING|File SimpleSerial.py:411) Unexpected end to command: 1\n",
      "(ChipWhisperer Target WARNING|File SimpleSerial.py:411) Unexpected end to command: 6\n",
      "(ChipWhisperer Target WARNING|File SimpleSerial.py:411) Unexpected end to command: 5\n",
      "(ChipWhisperer Target WARNING|File SimpleSerial.py:411) Unexpected end to command: A\n",
      "(ChipWhisperer Target WARNING|File SimpleSerial.py:411) Unexpected end to command: 5\n",
      "(ChipWhisperer Target WARNING|File SimpleSerial.py:411) Unexpected end to command: E\n",
      "(ChipWhisperer Target WARNING|File SimpleSerial.py:411) Unexpected end to command: F\n",
      "(ChipWhisperer Target WARNING|File SimpleSerial.py:411) Unexpected end to command: 2\n",
      "(ChipWhisperer Target WARNING|File SimpleSerial.py:411) Unexpected end to command: 1\n",
      "(ChipWhisperer Target WARNING|File SimpleSerial.py:411) Unexpected end to command: 5\n",
      "(ChipWhisperer Target WARNING|File SimpleSerial.py:411) Unexpected end to command: 5\n",
      "(ChipWhisperer Target WARNING|File SimpleSerial.py:411) Unexpected end to command: 5\n",
      "(ChipWhisperer Target WARNING|File SimpleSerial.py:411) Unexpected end to command: F\n",
      "(ChipWhisperer Target WARNING|File SimpleSerial.py:411) Unexpected end to command: 5\n",
      "(ChipWhisperer Target WARNING|File SimpleSerial.py:411) Unexpected end to command: F\n",
      "(ChipWhisperer Target WARNING|File SimpleSerial.py:411) Unexpected end to command: F\n",
      "(ChipWhisperer Target WARNING|File SimpleSerial.py:411) Unexpected end to command: 6\n",
      "WARNING:root:SAM3U Serial buffers OVERRUN - data loss has occurred.\n",
      "WARNING:root:SAM3U Serial buffers OVERRUN - data loss has occurred.\n",
      "WARNING:root:SAM3U Serial buffers OVERRUN - data loss has occurred.\n",
      "WARNING:root:SAM3U Serial buffers OVERRUN - data loss has occurred.\n",
      "WARNING:root:SAM3U Serial buffers OVERRUN - data loss has occurred.\n",
      "WARNING:root:SAM3U Serial buffers OVERRUN - data loss has occurred.\n",
      "WARNING:root:SAM3U Serial buffers OVERRUN - data loss has occurred.\n",
      "WARNING:root:SAM3U Serial buffers OVERRUN - data loss has occurred.\n",
      "WARNING:root:SAM3U Serial buffers OVERRUN - data loss has occurred.\n",
      "WARNING:root:SAM3U Serial buffers OVERRUN - data loss has occurred.\n",
      "(ChipWhisperer Target WARNING|File SimpleSerial.py:411) Unexpected end to command: 5\n",
      "(ChipWhisperer Target WARNING|File SimpleSerial.py:411) Unexpected end to command: 5\n",
      "(ChipWhisperer Target WARNING|File SimpleSerial.py:411) Unexpected end to command: 2\n",
      "(ChipWhisperer Target WARNING|File SimpleSerial.py:411) Unexpected end to command: 1\n",
      "WARNING:root:SAM3U Serial buffers OVERRUN - data loss has occurred.\n",
      "(ChipWhisperer Target WARNING|File SimpleSerial.py:411) Unexpected end to command: 5\n",
      "(ChipWhisperer Target WARNING|File SimpleSerial.py:411) Unexpected end to command: 5\n",
      "(ChipWhisperer Target WARNING|File SimpleSerial.py:411) Unexpected end to command: 5\n"
     ]
    }
   ],
   "source": [
    "data2 = np.zeros((RUNS,2))\n",
    "S_out=np.zeros(16)\n",
    "trace_coll=np.zeros((RUNS,5000))\n",
    "gc.display_stats()\n",
    "n=0\n",
    "for glitch_settings in gc.glitch_values():\n",
    "    scope.glitch.width = glitch_settings[0]\n",
    "    scope.glitch.offset = glitch_settings[1]\n",
    "    scope.glitch.ext_offset = glitch_settings[2]\n",
    "    reset_cnt = 0\n",
    "    valid_run = 1\n",
    "    for i in range(RUNS):\n",
    "        key, text = ktp.next()\n",
    "        for i in range (16):\n",
    "            S_out[i]=((sbox[text[i]]))\n",
    "        S_out=S_out.astype(int)\n",
    "        trace = cw.capture_trace(scope, target, text, key)\n",
    "        if scope.adc.state:\n",
    "            gc.add(\"reset\", (scope.glitch.width, scope.glitch.offset, scope.glitch.ext_offset))\n",
    "            reboot_flush()\n",
    "            reset_cnt += 1\n",
    "            if reset_cnt >= reset_num:\n",
    "                valid_run = 0\n",
    "                break\n",
    "            continue\n",
    "\n",
    "        try:\n",
    "            trace = cw.capture_trace(scope, target, text, key)\n",
    "        except:\n",
    "            gc.add(\"reset\", (scope.glitch.width, scope.glitch.offset, scope.glitch.ext_offset))\n",
    "            reboot_flush()\n",
    "            reset_cnt += 1\n",
    "            if reset_cnt >= reset_num:\n",
    "                valid_run = 0\n",
    "                break\n",
    "            continue\n",
    "\n",
    "        if trace is None:\n",
    "            gc.add(\"reset\", (scope.glitch.width, scope.glitch.offset, scope.glitch.ext_offset))\n",
    "            reboot_flush()\n",
    "            reset_cnt += 1\n",
    "            if reset_cnt >= reset_num:\n",
    "                valid_run = 0\n",
    "                break\n",
    "            continue\n",
    "\n",
    "        ciphertext = trace.textout\n",
    "        if ciphertext is None:\n",
    "            gc.add(\"reset\", (scope.glitch.width, scope.glitch.offset, scope.glitch.ext_offset))\n",
    "            reboot_flush()\n",
    "            reset_cnt += 1\n",
    "            if reset_cnt >= reset_num:\n",
    "                valid_run = 0\n",
    "                break\n",
    "            continue\n",
    "\n",
    "\n",
    "        sbox_in = text\n",
    "        sbox_out = ciphertext \n",
    "\n",
    "        if sbox_out[0] != S_out[0]:\n",
    "            gc.add(\"success\", (scope.glitch.width, scope.glitch.offset, scope.glitch.ext_offset))\n",
    "            if sbox_out[1] !=[] :#and sbox_out[1] !=0\n",
    "                data2[n,:] =[sbox_out[0],S_out[0]]\n",
    "#                 trace_coll[n,:] =trace[0]\n",
    "                n=n+1\n",
    "        else:\n",
    "            gc.add(\"normal\", (scope.glitch.width, scope.glitch.offset, scope.glitch.ext_offset))\n",
    "#             data2[n,:] =[sbox_out[3],goldciph[3]]\n",
    "#             n=n+1\n",
    "\n",
    "#     if valid_run == 0:\n",
    "#         data2 = np.zeros((RUNS,16),dtype=np.uint8)"
   ]
  },
  {
   "cell_type": "code",
   "execution_count": 17,
   "metadata": {},
   "outputs": [],
   "source": [
    "# # # trace = cw.capture_trace(scope, target, text, key)\n",
    "# # # goldciph = trace.textout\n",
    "# for p in range (16):\n",
    "#     print(sbox_out[p])\n",
    "#     print(S_out[p])\n",
    "#     print(p)\n",
    "# # # # print(n)\n",
    "# # # # print(i)\n",
    "# print(data2[0:1,:])\n",
    "# # # print(sbox_out)\n",
    "# # # print(goldciph)\n",
    "# trace[0]\n",
    "# cw.plot(trace[0])"
   ]
  },
  {
   "cell_type": "code",
   "execution_count": null,
   "metadata": {},
   "outputs": [],
   "source": [
    "%matplotlib notebook\n",
    "# print(scope.glitch.ext_offset)\n",
    "gc.results.plot_2d(plotdots={\"success\":\"+g\", \"reset\":\"xr\", \"normal\":None})"
   ]
  },
  {
   "cell_type": "code",
   "execution_count": null,
   "metadata": {},
   "outputs": [],
   "source": [
    "def HW(n):\n",
    "  return [bin(n).count(\"1\")]\n",
    "#HW = [bin(n).count(\"1\")]#HW = [bin(n).count(\"1\") for n in range(0, 256)]"
   ]
  },
  {
   "cell_type": "code",
   "execution_count": 91,
   "metadata": {},
   "outputs": [],
   "source": [
    "sbox = [\n",
    "    0x63, 0x7c, 0x77, 0x7b, 0xf2, 0x6b, 0x6f, 0xc5, 0x30, 0x01, 0x67, 0x2b, 0xfe, 0xd7, 0xab, 0x76,\n",
    "    0xca, 0x82, 0xc9, 0x7d, 0xfa, 0x59, 0x47, 0xf0, 0xad, 0xd4, 0xa2, 0xaf, 0x9c, 0xa4, 0x72, 0xc0,\n",
    "    0xb7, 0xfd, 0x93, 0x26, 0x36, 0x3f, 0xf7, 0xcc, 0x34, 0xa5, 0xe5, 0xf1, 0x71, 0xd8, 0x31, 0x15,\n",
    "    0x04, 0xc7, 0x23, 0xc3, 0x18, 0x96, 0x05, 0x9a, 0x07, 0x12, 0x80, 0xe2, 0xeb, 0x27, 0xb2, 0x75,\n",
    "    0x09, 0x83, 0x2c, 0x1a, 0x1b, 0x6e, 0x5a, 0xa0, 0x52, 0x3b, 0xd6, 0xb3, 0x29, 0xe3, 0x2f, 0x84,\n",
    "    0x53, 0xd1, 0x00, 0xed, 0x20, 0xfc, 0xb1, 0x5b, 0x6a, 0xcb, 0xbe, 0x39, 0x4a, 0x4c, 0x58, 0xcf,\n",
    "    0xd0, 0xef, 0xaa, 0xfb, 0x43, 0x4d, 0x33, 0x85, 0x45, 0xf9, 0x02, 0x7f, 0x50, 0x3c, 0x9f, 0xa8,\n",
    "    0x51, 0xa3, 0x40, 0x8f, 0x92, 0x9d, 0x38, 0xf5, 0xbc, 0xb6, 0xda, 0x21, 0x10, 0xff, 0xf3, 0xd2,\n",
    "    0xcd, 0x0c, 0x13, 0xec, 0x5f, 0x97, 0x44, 0x17, 0xc4, 0xa7, 0x7e, 0x3d, 0x64, 0x5d, 0x19, 0x73,\n",
    "    0x60, 0x81, 0x4f, 0xdc, 0x22, 0x2a, 0x90, 0x88, 0x46, 0xee, 0xb8, 0x14, 0xde, 0x5e, 0x0b, 0xdb,\n",
    "    0xe0, 0x32, 0x3a, 0x0a, 0x49, 0x06, 0x24, 0x5c, 0xc2, 0xd3, 0xac, 0x62, 0x91, 0x95, 0xe4, 0x79,\n",
    "    0xe7, 0xc8, 0x37, 0x6d, 0x8d, 0xd5, 0x4e, 0xa9, 0x6c, 0x56, 0xf4, 0xea, 0x65, 0x7a, 0xae, 0x08,\n",
    "    0xba, 0x78, 0x25, 0x2e, 0x1c, 0xa6, 0xb4, 0xc6, 0xe8, 0xdd, 0x74, 0x1f, 0x4b, 0xbd, 0x8b, 0x8a,\n",
    "    0x70, 0x3e, 0xb5, 0x66, 0x48, 0x03, 0xf6, 0x0e, 0x61, 0x35, 0x57, 0xb9, 0x86, 0xc1, 0x1d, 0x9e,\n",
    "    0xe1, 0xf8, 0x98, 0x11, 0x69, 0xd9, 0x8e, 0x94, 0x9b, 0x1e, 0x87, 0xe9, 0xce, 0x55, 0x28, 0xdf,\n",
    "    0x8c, 0xa1, 0x89, 0x0d, 0xbf, 0xe6, 0x42, 0x68, 0x41, 0x99, 0x2d, 0x0f, 0xb0, 0x54, 0xbb, 0x16,\n",
    "]\n",
    "\n",
    "inv_sbox = [\n",
    "    0x52, 0x09, 0x6a, 0xd5, 0x30, 0x36, 0xa5, 0x38, 0xbf, 0x40, 0xa3, 0x9e, 0x81, 0xf3, 0xd7, 0xfb,\n",
    "    0x7c, 0xe3, 0x39, 0x82, 0x9b, 0x2f, 0xff, 0x87, 0x34, 0x8e, 0x43, 0x44, 0xc4, 0xde, 0xe9, 0xcb,\n",
    "    0x54, 0x7b, 0x94, 0x32, 0xa6, 0xc2, 0x23, 0x3d, 0xee, 0x4c, 0x95, 0x0b, 0x42, 0xfa, 0xc3, 0x4e,\n",
    "    0x08, 0x2e, 0xa1, 0x66, 0x28, 0xd9, 0x24, 0xb2, 0x76, 0x5b, 0xa2, 0x49, 0x6d, 0x8b, 0xd1, 0x25,\n",
    "    0x72, 0xf8, 0xf6, 0x64, 0x86, 0x68, 0x98, 0x16, 0xd4, 0xa4, 0x5c, 0xcc, 0x5d, 0x65, 0xb6, 0x92,\n",
    "    0x6c, 0x70, 0x48, 0x50, 0xfd, 0xed, 0xb9, 0xda, 0x5e, 0x15, 0x46, 0x57, 0xa7, 0x8d, 0x9d, 0x84,\n",
    "    0x90, 0xd8, 0xab, 0x00, 0x8c, 0xbc, 0xd3, 0x0a, 0xf7, 0xe4, 0x58, 0x05, 0xb8, 0xb3, 0x45, 0x06,\n",
    "    0xd0, 0x2c, 0x1e, 0x8f, 0xca, 0x3f, 0x0f, 0x02, 0xc1, 0xaf, 0xbd, 0x03, 0x01, 0x13, 0x8a, 0x6b,\n",
    "    0x3a, 0x91, 0x11, 0x41, 0x4f, 0x67, 0xdc, 0xea, 0x97, 0xf2, 0xcf, 0xce, 0xf0, 0xb4, 0xe6, 0x73,\n",
    "    0x96, 0xac, 0x74, 0x22, 0xe7, 0xad, 0x35, 0x85, 0xe2, 0xf9, 0x37, 0xe8, 0x1c, 0x75, 0xdf, 0x6e,\n",
    "    0x47, 0xf1, 0x1a, 0x71, 0x1d, 0x29, 0xc5, 0x89, 0x6f, 0xb7, 0x62, 0x0e, 0xaa, 0x18, 0xbe, 0x1b,\n",
    "    0xfc, 0x56, 0x3e, 0x4b, 0xc6, 0xd2, 0x79, 0x20, 0x9a, 0xdb, 0xc0, 0xfe, 0x78, 0xcd, 0x5a, 0xf4,\n",
    "    0x1f, 0xdd, 0xa8, 0x33, 0x88, 0x07, 0xc7, 0x31, 0xb1, 0x12, 0x10, 0x59, 0x27, 0x80, 0xec, 0x5f,\n",
    "    0x60, 0x51, 0x7f, 0xa9, 0x19, 0xb5, 0x4a, 0x0d, 0x2d, 0xe5, 0x7a, 0x9f, 0x93, 0xc9, 0x9c, 0xef,\n",
    "    0xa0, 0xe0, 0x3b, 0x4d, 0xae, 0x2a, 0xf5, 0xb0, 0xc8, 0xeb, 0xbb, 0x3c, 0x83, 0x53, 0x99, 0x61,\n",
    "    0x17, 0x2b, 0x04, 0x7e, 0xba, 0x77, 0xd6, 0x26, 0xe1, 0x69, 0x14, 0x63, 0x55, 0x21, 0x0c, 0x7d,\n",
    "]\n",
    "input_text=np.zeros((n,2))\n",
    "data_distribution=np.zeros((256,256))\n",
    "data_distribution_HW=np.zeros((256,8))\n",
    "data_fault=np.zeros(n)\n",
    "fault_distribution=np.zeros(256)\n",
    "for i in range (n):\n",
    "    input_text[i,0]=(inv_sbox[int(data2[i,0])])\n",
    "    input_text[i,1]=(inv_sbox[int(data2[i,1])])\n",
    "    data_distribution_HW[int(input_text[i,0]),(HW(int(data2[i,1]))]=data_distribution_HW[int(input_text[i,0]),(HW(int(data2[i,1]))]+1\n",
    "    data_fault[i]= int(input_text[i,0])^int(input_text[i,1])\n",
    "    data_distribution[int(input_text[i,0]),int(input_text[i,1])]= data_distribution[int(input_text[i,0]),int(input_text[i,1])]+1\n",
    "for j in range (256):\n",
    "    fault_distribution[j]=np.sum(data_fault==j)\n",
    "savetxt('data.csv', data2, delimiter=',')\n",
    "savetxt('input_text.csv', input_text, delimiter=',')\n",
    "savetxt('fault_distribution',  fault_distribution, delimiter=',')\n",
    "savetxt('data_distribution_HW', data_distribution_HW, delimiter=',')                                                                                                               "
   ]
  },
  {
   "cell_type": "code",
   "execution_count": 92,
   "metadata": {},
   "outputs": [
    {
     "data": {
      "text/plain": [
       "[<matplotlib.lines.Line2D at 0x1cda04ee208>]"
      ]
     },
     "execution_count": 92,
     "metadata": {},
     "output_type": "execute_result"
    },
    {
     "data": {
      "image/png": "[encoded data removed]",
      "text/plain": [
       "<Figure size 432x288 with 1 Axes>"
      ]
     },
     "metadata": {
      "needs_background": "light"
     },
     "output_type": "display_data"
    }
   ],
   "source": [
    "import matplotlib.pyplot as plt\n",
    "plt.plot(fault_distribution)"
   ]
  },
  {
   "cell_type": "code",
   "execution_count": null,
   "metadata": {},
   "outputs": [],
   "source": [
    "plt.plot(data_distribution_HW)"
   ]
  },
  {
   "cell_type": "code",
   "execution_count": null,
   "metadata": {},
   "outputs": [],
   "source": []
  },
  {
   "cell_type": "code",
   "execution_count": null,
   "metadata": {},
   "outputs": [],
   "source": []
  },
  {
   "cell_type": "code",
   "execution_count": null,
   "metadata": {},
   "outputs": [],
   "source": []
  },
  {
   "cell_type": "code",
   "execution_count": null,
   "metadata": {},
   "outputs": [],
   "source": []
  },
  {
   "cell_type": "code",
   "execution_count": null,
   "metadata": {},
   "outputs": [],
   "source": []
  },
  {
   "cell_type": "code",
   "execution_count": null,
   "metadata": {},
   "outputs": [],
   "source": []
  }
 ],
 "metadata": {
  "kernelspec": {
   "display_name": "Python 3",
   "language": "python",
   "name": "python3"
  },
  "language_info": {
   "codemirror_mode": {
    "name": "ipython",
    "version": 3
   },
   "file_extension": ".py",
   "mimetype": "text/x-python",
   "name": "python",
   "nbconvert_exporter": "python",
   "pygments_lexer": "ipython3",
   "version": "3.7.7"
  }
 },
 "nbformat": 4,
 "nbformat_minor": 2
}
